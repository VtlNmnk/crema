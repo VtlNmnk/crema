{
  "nbformat": 4,
  "nbformat_minor": 0,
  "metadata": {
    "colab": {
      "name": "01-prepare.ipynb",
      "version": "0.3.2",
      "provenance": [],
      "collapsed_sections": [],
      "include_colab_link": true
    },
    "kernelspec": {
      "name": "python3",
      "display_name": "Python 3"
    }
  },
  "cells": [
    {
      "cell_type": "markdown",
      "metadata": {
        "id": "view-in-github",
        "colab_type": "text"
      },
      "source": [
        "<a href=\"https://colab.research.google.com/github/VtlNmnk/crema/blob/master/01_prepare.ipynb\" target=\"_parent\"><img src=\"https://colab.research.google.com/assets/colab-badge.svg\" alt=\"Open In Colab\"/></a>"
      ]
    },
    {
      "cell_type": "code",
      "metadata": {
        "id": "HlyH3VxiMDey",
        "colab_type": "code",
        "outputId": "85a9a0a2-28ff-4d2b-9b3b-0193d323d644",
        "colab": {
          "base_uri": "https://localhost:8080/",
          "height": 51
        }
      },
      "source": [
        "import os\n",
        "# Get access to google drive folder.\n",
        "# This only needs to be done once per notebook.\n",
        "from google.colab import drive\n",
        "drive.mount('/content/gdrive')\n",
        "root_path = '/content/gdrive/My Drive/ACE/'  #change dir to your project folder\n",
        "\n",
        "# Change current directoty to mounted on gdrive\n",
        "os.chdir(root_path)\n",
        "os.getcwd()"
      ],
      "execution_count": 1,
      "outputs": [
        {
          "output_type": "stream",
          "text": [
            "Drive already mounted at /content/gdrive; to attempt to forcibly remount, call drive.mount(\"/content/gdrive\", force_remount=True).\n"
          ],
          "name": "stdout"
        },
        {
          "output_type": "execute_result",
          "data": {
            "text/plain": [
              "'/content/gdrive/My Drive/ACE'"
            ]
          },
          "metadata": {
            "tags": []
          },
          "execution_count": 1
        }
      ]
    },
    {
      "cell_type": "code",
      "metadata": {
        "id": "Y3R8YQd8dbgF",
        "colab_type": "code",
        "outputId": "fb17a7a0-6d32-47f5-e2ee-343638640cb9",
        "colab": {
          "base_uri": "https://localhost:8080/",
          "height": 34
        }
      },
      "source": [
        "import tensorflow as tf\n",
        "device_name = tf.test.gpu_device_name()\n",
        "# if device_name != '/device:GPU:0':\n",
        "#   raise SystemError('GPU device not found')\n",
        "print('Found GPU at: {}'.format(device_name))"
      ],
      "execution_count": 2,
      "outputs": [
        {
          "output_type": "stream",
          "text": [
            "Found GPU at: \n"
          ],
          "name": "stdout"
        }
      ]
    },
    {
      "cell_type": "code",
      "metadata": {
        "id": "97z3mLDsPND9",
        "colab_type": "code",
        "outputId": "071165a9-955a-4f35-b830-44a2537c302f",
        "colab": {
          "base_uri": "https://localhost:8080/",
          "height": 187
        }
      },
      "source": [
        "!ls"
      ],
      "execution_count": 3,
      "outputs": [
        {
          "output_type": "stream",
          "text": [
            " augment_results_collection   output_results_carole_king\n",
            "'Colab Notebooks'\t      output_results_queen\n",
            " crema\t\t\t      output_results_TPU\n",
            " datasets\t\t      pumpp\n",
            " example\t\t      __pycache__\n",
            " libs\t\t\t      pyrubberband\n",
            " log_ACE\t\t      requirements.txt\n",
            " muda\t\t\t      resources\n",
            " output_example_results       rubberband-cli_1.8.1-4_amd64.deb\n",
            " output_results\n"
          ],
          "name": "stdout"
        }
      ]
    },
    {
      "cell_type": "code",
      "metadata": {
        "id": "eNsN5WCSKcbG",
        "colab_type": "code",
        "colab": {}
      },
      "source": [
        "# Sampling rate for audio analysis\n",
        "sample_rate = 44100.\n",
        "\n",
        "# Hop length for audio analysis\n",
        "hop_length = 4096\n",
        "\n",
        "# Number of octaves above C1\n",
        "n_octaves = 6\n",
        "\n",
        "# Path for augmented data (optional)\n",
        "# augment_path = \"augment_results_collection/augment_results_michael_jackson\"\n",
        "augment_path = \"augment_results_collection/augment_results_carole_king\"\n",
        "\n",
        "# Path for directory containing (audio, jams)\n",
        "input_path = os.path.join(root_path, \"datasets/Isophonics/Carole King\")\n",
        "# input_path = os.path.join(root_path, \"datasets/Isophonics/Michael Jackson\")\n",
        "# input_path = os.path.join(root_path, \"example\")\n",
        "# input_path = \"\"\n",
        "\n",
        "# Path to store pump output\n",
        "output_path = os.path.join(root_path, \"output_results_carole_king\")\n",
        "# output_path = os.path.join(root_path, \"output_results_michael_jackson\")\n",
        "# output_path = os.path.join(root_path, \"output_example_results\")"
      ],
      "execution_count": 0,
      "outputs": []
    },
    {
      "cell_type": "code",
      "metadata": {
        "id": "bb9Fs0Y2Jkrs",
        "colab_type": "code",
        "colab": {}
      },
      "source": [
        "def make_pump(sr, hop_length, n_octaves):\n",
        "    p_feature = pumpp.feature.HCQTMag(name='cqt',\n",
        "                                      sr=sr, hop_length=hop_length,\n",
        "                                      harmonics=[1, 2],\n",
        "                                      log=True, conv='tf', n_octaves=n_octaves)\n",
        "\n",
        "    p_chord_tag = pumpp.task.ChordTagTransformer(name='chord_tag',\n",
        "                                                 sr=sr, hop_length=hop_length,\n",
        "                                                 sparse=True)\n",
        "\n",
        "    p_chord_struct = pumpp.task.ChordTransformer(name='chord_struct',\n",
        "                                                 sr=sr, hop_length=hop_length,\n",
        "                                                 sparse=True)\n",
        "\n",
        "    pump = pumpp.Pump(p_feature, p_chord_tag, p_chord_struct)\n",
        "\n",
        "    # Save the pump\n",
        "\n",
        "    with open(os.path.join(output_path, 'pump.pkl'), 'wb') as fd:\n",
        "        pickle.dump(pump, fd)\n",
        "\n",
        "    return pump\n",
        "\n",
        "\n",
        "def convert(aud, jam, pump, outdir, index, list_of_tracks):\n",
        "\n",
        "    fname = os.path.extsep.join([os.path.join(outdir, crema_utils.base(aud)),\n",
        "                                'h5'])\n",
        "    # this is in case some of the files have been converted and some not\n",
        "    if not os.path.isfile(fname):\n",
        "        data = pump.transform(aud, jam)\n",
        "        crema_utils.save_h5(fname, **data)\n",
        "    list_of_tracks.update({index: crema_utils.base(aud)})\n",
        "    return list_of_tracks"
      ],
      "execution_count": 0,
      "outputs": []
    },
    {
      "cell_type": "code",
      "metadata": {
        "id": "lSOtlOy65Txs",
        "colab_type": "code",
        "colab": {}
      },
      "source": [
        "# !dpkg -i rubberband-cli_1.8.1-4_amd64.deb\n",
        "# !pip install jams\n",
        "# !pip install pumpp\n",
        "# !pip install soundfile\n",
        "# !pip install jsonpickle\n",
        "# !pip install crema\n",
        "# !pip uninstall muda"
      ],
      "execution_count": 0,
      "outputs": []
    },
    {
      "cell_type": "code",
      "metadata": {
        "id": "SJ1lAeMgJMT1",
        "colab_type": "code",
        "outputId": "e115af58-58c3-4839-8cc1-b6bfe050425a",
        "colab": {
          "base_uri": "https://localhost:8080/",
          "height": 102
        }
      },
      "source": [
        "# import crema\n",
        "# from crema.utils import get_ann_audio\n",
        "import json\n",
        "from tqdm import tqdm\n",
        "import pickle\n",
        "from joblib import Parallel, delayed\n",
        "\n",
        "try:\n",
        "    import librosa\n",
        "except ImportError:\n",
        "    !pip install -q librosa==0.6.2\n",
        "    import librosa\n",
        "try:\n",
        "    from jams.util import smkdirs\n",
        "except ImportError:\n",
        "    !pip install -q jams\n",
        "    from jams.util import smkdirs\n",
        "\n",
        "try:\n",
        "    import pumpp\n",
        "except ImportError:\n",
        "    !pip install -q pumpp\n",
        "    import pumpp\n",
        "\n",
        "from crema import utils as crema_utils\n",
        "\n",
        "smkdirs(output_path)\n",
        "\n",
        "pump = make_pump(sample_rate, hop_length, n_octaves)\n",
        "\n",
        "index = 0\n",
        "list_of_tracks = {}\n",
        "\n",
        "if input_path:\n",
        "    loop = tqdm(crema_utils.get_ann_audio(input_path),\n",
        "                desc='Converting training data')\n",
        "    for aud, ann  in loop:\n",
        "        convert(aud, ann, pump, output_path, index, list_of_tracks)\n",
        "        index +=1\n",
        "\n",
        "if augment_path:\n",
        "    loop = tqdm(crema_utils.get_ann_audio(augment_path),\n",
        "             desc='Converting augmented data')\n",
        "    for aud, ann  in loop:\n",
        "        convert(aud, ann, pump, output_path, index, list_of_tracks)\n",
        "        index +=1\n",
        "file_path = os.path.join(output_path, \"index_train.json\")\n",
        "with open(file_path, 'w') as outfile:\n",
        "    print(\"\\n\")\n",
        "    print(\"Writing file to: \", file_path)\n",
        "    json.dump({\"id\":list_of_tracks}, outfile)"
      ],
      "execution_count": 7,
      "outputs": [
        {
          "output_type": "stream",
          "text": [
            "Converting training data: 100%|██████████| 12/12 [06:17<00:00, 31.39s/it]\n",
            "Converting augmented data: 100%|██████████| 132/132 [43:18<00:00, 19.79s/it]"
          ],
          "name": "stderr"
        },
        {
          "output_type": "stream",
          "text": [
            "\n",
            "\n",
            "Writing file to:  /content/gdrive/My Drive/ACE/output_results_carole_king/index_train.json\n"
          ],
          "name": "stdout"
        },
        {
          "output_type": "stream",
          "text": [
            "\n"
          ],
          "name": "stderr"
        }
      ]
    }
  ]
}